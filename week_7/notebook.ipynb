{
 "cells": [
  {
   "cell_type": "code",
   "execution_count": 6,
   "id": "91cb8c3d-6130-4cfa-bbbc-44bf85f6c4d5",
   "metadata": {},
   "outputs": [
    {
     "name": "stdout",
     "output_type": "stream",
     "text": [
      "The autoreload extension is already loaded. To reload it, use:\n",
      "  %reload_ext autoreload\n",
      "/home/jovyan/shares/SR003.nfs2/kandi_video/vlad_test/RL\n"
     ]
    }
   ],
   "source": [
    "%load_ext autoreload\n",
    "%autoreload 2\n",
    "import os, sys, json\n",
    "print(os.getcwd())\n",
    "os.environ['HF_HOME'] = '/home/jovyan/shares/SR003.nfs2/.cache/huggingface'"
   ]
  },
  {
   "cell_type": "code",
   "execution_count": 7,
   "id": "2f6a2fd9-9e45-4500-83ee-92fd9534b14f",
   "metadata": {},
   "outputs": [],
   "source": [
    "from torch import nn\n",
    "import torch\n",
    "from torch.nn import functional as F\n",
    "import typing as tp\n",
    "import pandas as pd\n",
    "import datasets\n",
    "from transformers import PreTrainedTokenizerFast, get_scheduler\n",
    "from torch.utils.data import DataLoader, Dataset\n",
    "import numpy as np\n",
    "from tqdm import tqdm\n",
    "import wandb\n",
    "from tokenizers import (\n",
    "    decoders,\n",
    "    models,\n",
    "    normalizers,\n",
    "    pre_tokenizers,\n",
    "    processors,\n",
    "    trainers,\n",
    "    Tokenizer,\n",
    ")\n",
    "import gc\n",
    "import matplotlib.pyplot as plt\n",
    "import seaborn as sns"
   ]
  },
  {
   "cell_type": "code",
   "execution_count": 8,
   "id": "f901fa1f-e6c7-4b2f-87b0-46e7fc26199c",
   "metadata": {},
   "outputs": [],
   "source": [
    "device = torch.device('cuda') if torch.cuda.is_available() else torch.device('cpu')"
   ]
  },
  {
   "cell_type": "markdown",
   "id": "94b70a88-4a40-49a0-82cc-e8fc462a05e6",
   "metadata": {},
   "source": [
    "Наша игрушечная модель:"
   ]
  },
  {
   "cell_type": "code",
   "execution_count": 9,
   "id": "31cc1be9-54b1-4966-b1d9-85f8ddf19f9e",
   "metadata": {},
   "outputs": [],
   "source": [
    "class ReluModel(nn.Module):\n",
    "    def __init__(self, input_dim=10000, hidden_dim=2):\n",
    "        super().__init__()\n",
    "        self.W = nn.Parameter(torch.zeros(hidden_dim, input_dim))\n",
    "        self.bias = nn.Parameter(torch.zeros(input_dim))\n",
    "        nn.init.xavier_uniform_(self.W)\n",
    "    \n",
    "    def forward(self, x):\n",
    "        h = torch.matmul(x, self.W.t()) \n",
    "        x_ = torch.relu(torch.matmul(h, self.W) + self.bias)\n",
    "        return x_"
   ]
  },
  {
   "cell_type": "code",
   "execution_count": 33,
   "id": "3e3d0064-1a07-423f-bb5c-50b72e2614ef",
   "metadata": {
    "scrolled": true
   },
   "outputs": [],
   "source": [
    "def train_model(data, num_steps=50000, warmup_steps=2500, lr=1e-3, weight_decay=1e-2, hidden_dim=2):\n",
    "    model = ReluModel(input_dim, hidden_dim).to(device)\n",
    "    optimizer = torch.optim.AdamW(model.parameters(), lr=lr, weight_decay=weight_decay)\n",
    "    scheduler = get_scheduler('cosine', optimizer, num_warmup_steps=warmup_steps, num_training_steps=num_steps)\n",
    "    criterion = nn.MSELoss()\n",
    "    losses = []\n",
    "    for step in tqdm(range(num_steps), total=num_steps):\n",
    "        optimizer.zero_grad()\n",
    "        output = model(data.to(device))\n",
    "        loss = criterion(output, data.to(device))\n",
    "        loss.backward()\n",
    "        optimizer.step()\n",
    "        scheduler.step()\n",
    "        losses.append(loss.item())\n",
    "        if (step+1) % 10000 == 0:\n",
    "            print(f\"Step {step+1}/{num_steps}, Loss: {loss.item()}\")\n",
    "    return model, losses"
   ]
  },
  {
   "cell_type": "code",
   "execution_count": 21,
   "id": "33331df1-d352-4193-ac1d-365c378e40ef",
   "metadata": {},
   "outputs": [],
   "source": [
    "T_grid = [200, 500, 1000, 2000, 5000, 10000, 20000, 50000]\n",
    "m_grid = [2, 3, 4, 5, 6, 7, 8, 9, 10, 16]"
   ]
  },
  {
   "cell_type": "markdown",
   "id": "047a000e-e8db-435a-9d23-ad6108ab714e",
   "metadata": {},
   "source": [
    "Используем все те же параметры, которые указаны для экспериментов."
   ]
  },
  {
   "cell_type": "code",
   "execution_count": 22,
   "id": "97e41078-a690-45e0-a48a-05902368025e",
   "metadata": {},
   "outputs": [],
   "source": [
    "input_dim = 10000\n",
    "hidden_dim = 2\n",
    "generator = torch.Generator(device='cpu').manual_seed(42)"
   ]
  },
  {
   "cell_type": "code",
   "execution_count": null,
   "id": "f2a50bee-6b0d-44d4-ba7a-976e6eb07ffb",
   "metadata": {
    "scrolled": true
   },
   "outputs": [
    {
     "name": "stderr",
     "output_type": "stream",
     "text": [
      " 20%|██        | 10020/50000 [00:47<03:19, 200.39it/s]"
     ]
    },
    {
     "name": "stdout",
     "output_type": "stream",
     "text": [
      "Step 10000/50000, Loss: 4.726886118078255e-07\n"
     ]
    },
    {
     "name": "stderr",
     "output_type": "stream",
     "text": [
      " 40%|████      | 20047/50000 [01:35<02:20, 213.04it/s]"
     ]
    },
    {
     "name": "stdout",
     "output_type": "stream",
     "text": [
      "Step 20000/50000, Loss: 4.6701001110704965e-07\n"
     ]
    },
    {
     "name": "stderr",
     "output_type": "stream",
     "text": [
      " 60%|██████    | 30034/50000 [02:23<01:33, 214.45it/s]"
     ]
    },
    {
     "name": "stdout",
     "output_type": "stream",
     "text": [
      "Step 30000/50000, Loss: 4.660641366172058e-07\n"
     ]
    },
    {
     "name": "stderr",
     "output_type": "stream",
     "text": [
      " 80%|████████  | 40033/50000 [03:09<00:35, 278.33it/s]"
     ]
    },
    {
     "name": "stdout",
     "output_type": "stream",
     "text": [
      "Step 40000/50000, Loss: 4.6575746637245174e-07\n"
     ]
    },
    {
     "name": "stderr",
     "output_type": "stream",
     "text": [
      "100%|██████████| 50000/50000 [03:53<00:00, 213.87it/s]\n"
     ]
    },
    {
     "name": "stdout",
     "output_type": "stream",
     "text": [
      "Step 50000/50000, Loss: 4.657138390484761e-07\n",
      "Saved: trained_relu_model_m2_T200.pth\n"
     ]
    },
    {
     "name": "stderr",
     "output_type": "stream",
     "text": [
      " 20%|██        | 10027/50000 [00:48<03:19, 200.10it/s]"
     ]
    },
    {
     "name": "stdout",
     "output_type": "stream",
     "text": [
      "Step 10000/50000, Loss: 4.57384118135451e-07\n"
     ]
    },
    {
     "name": "stderr",
     "output_type": "stream",
     "text": [
      " 40%|████      | 20022/50000 [01:36<02:26, 204.69it/s]"
     ]
    },
    {
     "name": "stdout",
     "output_type": "stream",
     "text": [
      "Step 20000/50000, Loss: 4.5405758442029764e-07\n"
     ]
    },
    {
     "name": "stderr",
     "output_type": "stream",
     "text": [
      " 60%|██████    | 30034/50000 [02:24<01:39, 199.69it/s]"
     ]
    },
    {
     "name": "stdout",
     "output_type": "stream",
     "text": [
      "Step 30000/50000, Loss: 4.528723991370498e-07\n"
     ]
    },
    {
     "name": "stderr",
     "output_type": "stream",
     "text": [
      " 80%|████████  | 40026/50000 [03:12<00:48, 206.33it/s]"
     ]
    },
    {
     "name": "stdout",
     "output_type": "stream",
     "text": [
      "Step 40000/50000, Loss: 4.507101891704224e-07\n"
     ]
    },
    {
     "name": "stderr",
     "output_type": "stream",
     "text": [
      "100%|██████████| 50000/50000 [04:00<00:00, 207.63it/s]\n"
     ]
    },
    {
     "name": "stdout",
     "output_type": "stream",
     "text": [
      "Step 50000/50000, Loss: 4.499043200212327e-07\n",
      "Saved: trained_relu_model_m3_T200.pth\n"
     ]
    },
    {
     "name": "stderr",
     "output_type": "stream",
     "text": [
      " 20%|██        | 10036/50000 [00:48<03:07, 213.30it/s]"
     ]
    },
    {
     "name": "stdout",
     "output_type": "stream",
     "text": [
      "Step 10000/50000, Loss: 4.17890987591818e-07\n"
     ]
    },
    {
     "name": "stderr",
     "output_type": "stream",
     "text": [
      " 40%|████      | 20035/50000 [01:31<02:26, 205.23it/s]"
     ]
    },
    {
     "name": "stdout",
     "output_type": "stream",
     "text": [
      "Step 20000/50000, Loss: 3.7677418163184484e-07\n"
     ]
    },
    {
     "name": "stderr",
     "output_type": "stream",
     "text": [
      " 60%|██████    | 30033/50000 [02:19<01:36, 207.70it/s]"
     ]
    },
    {
     "name": "stdout",
     "output_type": "stream",
     "text": [
      "Step 30000/50000, Loss: 3.755713464670407e-07\n"
     ]
    },
    {
     "name": "stderr",
     "output_type": "stream",
     "text": [
      " 80%|████████  | 40017/50000 [03:07<00:49, 201.29it/s]"
     ]
    },
    {
     "name": "stdout",
     "output_type": "stream",
     "text": [
      "Step 40000/50000, Loss: 3.7549293097072223e-07\n"
     ]
    },
    {
     "name": "stderr",
     "output_type": "stream",
     "text": [
      "100%|██████████| 50000/50000 [03:55<00:00, 212.07it/s]\n"
     ]
    },
    {
     "name": "stdout",
     "output_type": "stream",
     "text": [
      "Step 50000/50000, Loss: 3.754897193175566e-07\n",
      "Saved: trained_relu_model_m4_T200.pth\n"
     ]
    },
    {
     "name": "stderr",
     "output_type": "stream",
     "text": [
      " 20%|██        | 10027/50000 [00:48<03:11, 209.05it/s]"
     ]
    },
    {
     "name": "stdout",
     "output_type": "stream",
     "text": [
      "Step 10000/50000, Loss: 3.7517233408834727e-07\n"
     ]
    },
    {
     "name": "stderr",
     "output_type": "stream",
     "text": [
      " 40%|████      | 20034/50000 [01:36<02:31, 197.53it/s]"
     ]
    },
    {
     "name": "stdout",
     "output_type": "stream",
     "text": [
      "Step 20000/50000, Loss: 3.498910530197463e-07\n"
     ]
    },
    {
     "name": "stderr",
     "output_type": "stream",
     "text": [
      " 60%|██████    | 30021/50000 [02:25<01:35, 209.58it/s]"
     ]
    },
    {
     "name": "stdout",
     "output_type": "stream",
     "text": [
      "Step 30000/50000, Loss: 3.4422765793351573e-07\n"
     ]
    },
    {
     "name": "stderr",
     "output_type": "stream",
     "text": [
      " 80%|████████  | 40038/50000 [03:13<00:42, 236.00it/s]"
     ]
    },
    {
     "name": "stdout",
     "output_type": "stream",
     "text": [
      "Step 40000/50000, Loss: 3.4407614180054225e-07\n"
     ]
    },
    {
     "name": "stderr",
     "output_type": "stream",
     "text": [
      "100%|██████████| 50000/50000 [03:57<00:00, 210.29it/s]\n"
     ]
    },
    {
     "name": "stdout",
     "output_type": "stream",
     "text": [
      "Step 50000/50000, Loss: 3.4407054272378446e-07\n",
      "Saved: trained_relu_model_m5_T200.pth\n"
     ]
    },
    {
     "name": "stderr",
     "output_type": "stream",
     "text": [
      " 20%|██        | 10027/50000 [00:48<03:11, 208.74it/s]"
     ]
    },
    {
     "name": "stdout",
     "output_type": "stream",
     "text": [
      "Step 10000/50000, Loss: 3.0041874765629473e-07\n"
     ]
    },
    {
     "name": "stderr",
     "output_type": "stream",
     "text": [
      " 40%|████      | 20031/50000 [01:36<02:14, 223.44it/s]"
     ]
    },
    {
     "name": "stdout",
     "output_type": "stream",
     "text": [
      "Step 20000/50000, Loss: 2.549242879013036e-07\n"
     ]
    },
    {
     "name": "stderr",
     "output_type": "stream",
     "text": [
      " 60%|██████    | 30022/50000 [02:25<01:41, 196.22it/s]"
     ]
    },
    {
     "name": "stdout",
     "output_type": "stream",
     "text": [
      "Step 30000/50000, Loss: 2.546876771702955e-07\n"
     ]
    },
    {
     "name": "stderr",
     "output_type": "stream",
     "text": [
      " 80%|████████  | 40031/50000 [03:14<00:46, 214.91it/s]"
     ]
    },
    {
     "name": "stdout",
     "output_type": "stream",
     "text": [
      "Step 40000/50000, Loss: 2.546003656789253e-07\n"
     ]
    },
    {
     "name": "stderr",
     "output_type": "stream",
     "text": [
      "100%|██████████| 50000/50000 [04:03<00:00, 204.94it/s]\n"
     ]
    },
    {
     "name": "stdout",
     "output_type": "stream",
     "text": [
      "Step 50000/50000, Loss: 2.5459482344558637e-07\n",
      "Saved: trained_relu_model_m6_T200.pth\n"
     ]
    },
    {
     "name": "stderr",
     "output_type": "stream",
     "text": [
      " 20%|██        | 10029/50000 [00:53<03:37, 184.07it/s]"
     ]
    },
    {
     "name": "stdout",
     "output_type": "stream",
     "text": [
      "Step 10000/50000, Loss: 1.9850796206810628e-07\n"
     ]
    },
    {
     "name": "stderr",
     "output_type": "stream",
     "text": [
      " 40%|████      | 20025/50000 [01:45<02:40, 187.11it/s]"
     ]
    },
    {
     "name": "stdout",
     "output_type": "stream",
     "text": [
      "Step 20000/50000, Loss: 1.9667461970129807e-07\n"
     ]
    },
    {
     "name": "stderr",
     "output_type": "stream",
     "text": [
      " 60%|██████    | 30025/50000 [02:39<01:48, 184.39it/s]"
     ]
    },
    {
     "name": "stdout",
     "output_type": "stream",
     "text": [
      "Step 30000/50000, Loss: 1.9597995049025485e-07\n"
     ]
    },
    {
     "name": "stderr",
     "output_type": "stream",
     "text": [
      " 80%|████████  | 40036/50000 [03:34<00:52, 188.49it/s]"
     ]
    },
    {
     "name": "stdout",
     "output_type": "stream",
     "text": [
      "Step 40000/50000, Loss: 1.9578459387048497e-07\n"
     ]
    },
    {
     "name": "stderr",
     "output_type": "stream",
     "text": [
      "100%|██████████| 50000/50000 [04:27<00:00, 186.72it/s]\n"
     ]
    },
    {
     "name": "stdout",
     "output_type": "stream",
     "text": [
      "Step 50000/50000, Loss: 1.9575941223592963e-07\n",
      "Saved: trained_relu_model_m2_T500.pth\n"
     ]
    },
    {
     "name": "stderr",
     "output_type": "stream",
     "text": [
      " 20%|██        | 10036/50000 [00:54<03:36, 184.61it/s]"
     ]
    },
    {
     "name": "stdout",
     "output_type": "stream",
     "text": [
      "Step 10000/50000, Loss: 1.9812080154224532e-07\n"
     ]
    },
    {
     "name": "stderr",
     "output_type": "stream",
     "text": [
      " 40%|████      | 20035/50000 [01:48<02:45, 181.19it/s]"
     ]
    },
    {
     "name": "stdout",
     "output_type": "stream",
     "text": [
      "Step 20000/50000, Loss: 1.9566232367651537e-07\n"
     ]
    },
    {
     "name": "stderr",
     "output_type": "stream",
     "text": [
      " 45%|████▍     | 22338/50000 [02:01<02:28, 185.93it/s]"
     ]
    }
   ],
   "source": [
    "losses_dict = {}\n",
    "for T in T_grid:\n",
    "     for m in m_grid:\n",
    "        data = torch.zeros(T, input_dim)\n",
    "        mask = (torch.rand(T, input_dim) > 0.999)\n",
    "        data[mask] = torch.rand(torch.sum(mask), generator=generator)\n",
    "        data = data / data.norm()\n",
    "        trained_relu_model, losses = train_model(data, hidden_dim=m)\n",
    "        torch.save(trained_relu_model.state_dict(), f'toy_models/trained_relu_model_m{m}_T{T}.pth')\n",
    "        print(f'Saved: trained_relu_model_m{m}_T{T}.pth')\n",
    "        losses_dict[(T, m)] = losses \n",
    "        del trained_relu_model\n",
    "        torch.cuda.empty_cache()\n",
    "        gc.collect()"
   ]
  },
  {
   "cell_type": "code",
   "execution_count": 17,
   "id": "cc1a37e1-f145-4558-a8ed-eb2ce5757f4f",
   "metadata": {},
   "outputs": [],
   "source": [
    "criterion = nn.MSELoss()"
   ]
  },
  {
   "cell_type": "code",
   "execution_count": 23,
   "id": "f56cf1fe-3a0d-4b64-8fd1-d7e3688d98ee",
   "metadata": {},
   "outputs": [],
   "source": [
    "generator = torch.Generator(device='cpu').manual_seed(1)"
   ]
  },
  {
   "cell_type": "code",
   "execution_count": 24,
   "id": "b00a1e9a-6006-4384-afc9-70072e1453bf",
   "metadata": {},
   "outputs": [
    {
     "name": "stderr",
     "output_type": "stream",
     "text": [
      "  0%|          | 0/5 [00:00<?, ?it/s]/tmp/ipykernel_30953/1015442149.py:12: FutureWarning: You are using `torch.load` with `weights_only=False` (the current default value), which uses the default pickle module implicitly. It is possible to construct malicious pickle data which will execute arbitrary code during unpickling (See https://github.com/pytorch/pytorch/blob/main/SECURITY.md#untrusted-models for more details). In a future release, the default value for `weights_only` will be flipped to `True`. This limits the functions that could be executed during unpickling. Arbitrary objects will no longer be allowed to be loaded via this mode unless they are explicitly allowlisted by the user via `torch.serialization.add_safe_globals`. We recommend you start setting `weights_only=True` for any use case where you don't have full control of the loaded file. Please open an issue on GitHub for any issues related to this experimental feature.\n",
      "  trained_relu_model.load_state_dict(torch.load(f'toy_models/trained_relu_model_m{m}_T{T}.pth'))\n",
      "100%|██████████| 5/5 [00:16<00:00,  3.23s/it]\n"
     ]
    }
   ],
   "source": [
    "losses_dict = {}\n",
    "T_grid = [200, 500, 1000, 2000, 5000, 10000, 20000, 50000]\n",
    "m_grid = [2, 3, 4, 5, 6, 7, 8, 9, 10, 16]\n",
    "for T in tqdm(T_grid):\n",
    "     for m in m_grid:\n",
    "        data = torch.zeros(T, input_dim)\n",
    "        mask = (torch.rand(T, input_dim) > 0.999)\n",
    "        data[mask] = torch.rand(torch.sum(mask), generator=generator)\n",
    "        data = data / data.norm()\n",
    "        trained_relu_model =  ReluModel(input_dim, m).to(device)\n",
    "        trained_relu_model.load_state_dict(torch.load(f'toy_models/trained_relu_model_m{m}_T{T}.pth'))\n",
    "        trained_relu_model.eval()\n",
    "        outp = trained_relu_model(data.to(device))\n",
    "        loss = criterion(outp, data.to(device))\n",
    "        losses_dict[(m, T)] = loss.item()\n",
    "        del trained_relu_model\n",
    "        torch.cuda.empty_cache()\n",
    "        gc.collect()"
   ]
  },
  {
   "cell_type": "code",
   "execution_count": 25,
   "id": "bebadd37-ada2-4ced-adb5-61a75aeb6bef",
   "metadata": {},
   "outputs": [],
   "source": [
    "losses = np.zeros((8, 10))"
   ]
  },
  {
   "cell_type": "code",
   "execution_count": 26,
   "id": "36fa6b7c-2fd5-4c9b-b6e7-60f759ccb45c",
   "metadata": {
    "scrolled": true
   },
   "outputs": [],
   "source": [
    "for i, T in enumerate(T_grid):\n",
    "     for j, m in enumerate(m_grid):\n",
    "         losses[i, j] = losses_dict[(m, T)]"
   ]
  },
  {
   "cell_type": "markdown",
   "id": "4ac9d14b-e4c9-4659-9602-0577488683fc",
   "metadata": {},
   "source": [
    "Ниже представлен график ошибок при разных значениях размера датасета T (от 200 до 50000) и размере хидена m (от 2 до 16).\n",
    "\n",
    "Как можем заметить, наши результаты сходятся со статьей."
   ]
  },
  {
   "cell_type": "code",
   "execution_count": 14,
   "id": "31cd9029-c979-4f02-8407-67cc05d86dd0",
   "metadata": {},
   "outputs": [
    {
     "data": {
      "text/plain": [
       "<Axes: >"
      ]
     },
     "execution_count": 14,
     "metadata": {},
     "output_type": "execute_result"
    },
    {
     "data": {
      "image/png": "[encoded data removed]",
      "text/plain": [
       "<Figure size 640x480 with 2 Axes>"
      ]
     },
     "metadata": {},
     "output_type": "display_data"
    }
   ],
   "source": [
    "sns.heatmap(np.flip(losses, 0), xticklabels=m_grid, yticklabels=T_grid[::-1], cmap='viridis')"
   ]
  },
  {
   "cell_type": "markdown",
   "id": "af2ebb25-53b0-4f89-80f5-e97e437d6d86",
   "metadata": {},
   "source": [
    "Перейдем к исследованию зависимости от weight decay. Будем использовать те же параметры, что и в статье."
   ]
  },
  {
   "cell_type": "code",
   "execution_count": 36,
   "id": "4ca80b21-6c38-4a6f-aabe-6bf1c411ccc9",
   "metadata": {},
   "outputs": [],
   "source": [
    "input_dim = 10000\n",
    "hidden_dim = 4\n",
    "T_grid = [100, 1000, 5000, 10000, 50000]\n",
    "generator = torch.Generator(device='cpu').manual_seed(228)"
   ]
  },
  {
   "cell_type": "code",
   "execution_count": 24,
   "id": "2ac23a70-fc60-431c-86a0-183b7643158d",
   "metadata": {},
   "outputs": [],
   "source": [
    "w_decays = [1e-4, 1e-2, 1]"
   ]
  },
  {
   "cell_type": "code",
   "execution_count": null,
   "id": "0dced83d-8697-40f3-a2e2-92343d0a3162",
   "metadata": {
    "scrolled": true
   },
   "outputs": [
    {
     "name": "stderr",
     "output_type": "stream",
     "text": [
      " 20%|██        | 10036/50000 [00:46<02:58, 223.46it/s]"
     ]
    },
    {
     "name": "stdout",
     "output_type": "stream",
     "text": [
      "Step 10000/50000, Loss: 6.07023025622766e-07\n"
     ]
    },
    {
     "name": "stderr",
     "output_type": "stream",
     "text": [
      " 40%|████      | 20033/50000 [01:32<02:19, 214.67it/s]"
     ]
    },
    {
     "name": "stdout",
     "output_type": "stream",
     "text": [
      "Step 20000/50000, Loss: 6.062130637474183e-07\n"
     ]
    },
    {
     "name": "stderr",
     "output_type": "stream",
     "text": [
      " 60%|██████    | 30020/50000 [02:19<01:34, 211.42it/s]"
     ]
    },
    {
     "name": "stdout",
     "output_type": "stream",
     "text": [
      "Step 30000/50000, Loss: 5.91250113757269e-07\n"
     ]
    },
    {
     "name": "stderr",
     "output_type": "stream",
     "text": [
      " 80%|████████  | 40018/50000 [03:05<00:46, 214.80it/s]"
     ]
    },
    {
     "name": "stdout",
     "output_type": "stream",
     "text": [
      "Step 40000/50000, Loss: 5.899460120417643e-07\n"
     ]
    },
    {
     "name": "stderr",
     "output_type": "stream",
     "text": [
      "100%|██████████| 50000/50000 [03:52<00:00, 215.36it/s]\n"
     ]
    },
    {
     "name": "stdout",
     "output_type": "stream",
     "text": [
      "Step 50000/50000, Loss: 5.886192298021342e-07\n",
      "Saved: decay_trained_relu_model_d0.0001_T100.pth\n"
     ]
    },
    {
     "name": "stderr",
     "output_type": "stream",
     "text": [
      "  9%|▉         | 4468/50000 [00:19<03:15, 233.19it/s]"
     ]
    }
   ],
   "source": [
    "decay_losses_dict = {}\n",
    "for T in T_grid:\n",
    "     for w_dec in w_decays:\n",
    "        data = torch.zeros(T, input_dim)\n",
    "        mask = (torch.rand(T, input_dim) > 0.999)\n",
    "        data[mask] = torch.rand(torch.sum(mask), generator=generator)\n",
    "        data = data / data.norm()\n",
    "        trained_model, losses = train_model(data, weight_decay=w_dec, hidden_dim=hidden_dim)\n",
    "        torch.save(trained_model.state_dict(), f'toy_models/decay_trained_relu_model_d{w_dec}_T{T}.pth')\n",
    "        print(f'Saved: decay_trained_relu_model_d{w_dec}_T{T}.pth')\n",
    "        decay_losses_dict[(T, w_dec)] = losses \n",
    "        pd.to_pickle(decay_losses_dict, 'decay_losses_dict.pkl')\n",
    "        del trained_model\n",
    "        torch.cuda.empty_cache()\n",
    "        gc.collect()"
   ]
  },
  {
   "cell_type": "code",
   "execution_count": 45,
   "id": "0d67b19c-9631-4bbc-be60-cd31047b1ba4",
   "metadata": {},
   "outputs": [
    {
     "name": "stderr",
     "output_type": "stream",
     "text": [
      "  0%|          | 0/5 [00:00<?, ?it/s]/tmp/ipykernel_114/142005600.py:9: FutureWarning: You are using `torch.load` with `weights_only=False` (the current default value), which uses the default pickle module implicitly. It is possible to construct malicious pickle data which will execute arbitrary code during unpickling (See https://github.com/pytorch/pytorch/blob/main/SECURITY.md#untrusted-models for more details). In a future release, the default value for `weights_only` will be flipped to `True`. This limits the functions that could be executed during unpickling. Arbitrary objects will no longer be allowed to be loaded via this mode unless they are explicitly allowlisted by the user via `torch.serialization.add_safe_globals`. We recommend you start setting `weights_only=True` for any use case where you don't have full control of the loaded file. Please open an issue on GitHub for any issues related to this experimental feature.\n",
      "  trained_relu_model.load_state_dict(torch.load(f'toy_models/decay_trained_relu_model_d{w_dec}_T{T}.pth'))\n",
      "100%|██████████| 5/5 [00:34<00:00,  6.83s/it]\n"
     ]
    }
   ],
   "source": [
    "decay_losses_dict_test = {}\n",
    "for T in tqdm(T_grid):\n",
    "     for w_dec in w_decays:\n",
    "        data = torch.zeros(T, input_dim)\n",
    "        mask = (torch.rand(T, input_dim) > 0.999)\n",
    "        data[mask] = torch.rand(torch.sum(mask), generator=generator)\n",
    "        data = data / data.norm()\n",
    "        trained_relu_model =  ReluModel(input_dim, hidden_dim=hidden_dim).to(device)\n",
    "        trained_relu_model.load_state_dict(torch.load(f'toy_models/decay_trained_relu_model_d{w_dec}_T{T}.pth'))\n",
    "        trained_relu_model.eval()\n",
    "        outp = trained_relu_model(data.to(device))\n",
    "        loss = criterion(outp, data.to(device))\n",
    "        decay_losses_dict_test[(T, w_dec)] = loss.item()\n",
    "        del trained_relu_model\n",
    "        torch.cuda.empty_cache()\n",
    "        gc.collect()"
   ]
  },
  {
   "cell_type": "code",
   "execution_count": 39,
   "id": "2656d8b4-d068-4829-b3d9-8bd24003e450",
   "metadata": {},
   "outputs": [],
   "source": [
    "train_loss = dict(map(lambda x: (x[0], np.mean(x[1])), decay_losses_dict.items()))"
   ]
  },
  {
   "cell_type": "code",
   "execution_count": 42,
   "id": "ed14d9f8-cec4-40da-a7f5-f45622d13258",
   "metadata": {},
   "outputs": [],
   "source": [
    "train_loss_dict = {}\n",
    "for w_dec in w_decays:\n",
    "    train_loss_dict[w_dec] = []\n",
    "    for T in T_grid:\n",
    "        train_loss_dict[w_dec].append(train_loss[(T, w_dec)])"
   ]
  },
  {
   "cell_type": "code",
   "execution_count": 44,
   "id": "219aea24-7a4d-4d3f-a245-00917c323bd5",
   "metadata": {},
   "outputs": [
    {
     "data": {
      "image/png": "[encoded data removed]",
      "text/plain": [
       "<Figure size 640x480 with 1 Axes>"
      ]
     },
     "metadata": {},
     "output_type": "display_data"
    }
   ],
   "source": [
    "with plt.style.context('grayscale'):\n",
    "    plt.grid(linewidth=0.4)\n",
    "    plt.plot(list(range(5)), train_loss_dict[0.0001], 'r-', markersize=8, label='0.0001')\n",
    "    plt.plot(list(range(5)), train_loss_dict[0.01], 'g-', markersize=8, label='0.01')\n",
    "    plt.plot(list(range(5)), train_loss_dict[1], 'b-', markersize=8, label='1.0')\n",
    "    plt.title('Train loss')\n",
    "    plt.xlabel('Dataset size')\n",
    "    plt.ylabel('Loss')\n",
    "    plt.legend()\n",
    "    plt.xticks(ticks=list(range(5)),labels=T_grid)\n",
    "    plt.savefig('train_loss_decay.png')\n",
    "    plt.show()"
   ]
  },
  {
   "cell_type": "code",
   "execution_count": 47,
   "id": "3ead5439-5b51-4c8d-b541-e641b03f3d39",
   "metadata": {},
   "outputs": [],
   "source": [
    "test_loss_dict = {}\n",
    "for w_dec in w_decays:\n",
    "    test_loss_dict[w_dec] = []\n",
    "    for T in T_grid:\n",
    "        test_loss_dict[w_dec].append(decay_losses_dict_test[(T, w_dec)])"
   ]
  },
  {
   "cell_type": "code",
   "execution_count": 48,
   "id": "d77c2616-c2e1-4369-9e16-d6cbf4ae2427",
   "metadata": {},
   "outputs": [
    {
     "data": {
      "image/png": "[encoded data removed]",
      "text/plain": [
       "<Figure size 640x480 with 1 Axes>"
      ]
     },
     "metadata": {},
     "output_type": "display_data"
    }
   ],
   "source": [
    "with plt.style.context('grayscale'):\n",
    "    plt.grid(linewidth=0.4)\n",
    "    plt.plot(list(range(5)), test_loss_dict[0.0001], 'r-', markersize=8, label='0.0001')\n",
    "    plt.plot(list(range(5)), test_loss_dict[0.01], 'g-', markersize=8, label='0.01')\n",
    "    plt.plot(list(range(5)), test_loss_dict[1], 'b-', markersize=8, label='1.0')\n",
    "    plt.title('Test loss')\n",
    "    plt.xlabel('Dataset size')\n",
    "    plt.ylabel('Loss')\n",
    "    plt.legend()\n",
    "    plt.xticks(ticks=list(range(5)),labels=T_grid)\n",
    "    plt.savefig('test_loss_decay.png')\n",
    "    plt.show()"
   ]
  },
  {
   "cell_type": "code",
   "execution_count": null,
   "id": "16684a20-b6bf-46b5-8423-903340d7880c",
   "metadata": {},
   "outputs": [],
   "source": []
  }
 ],
 "metadata": {
  "kernelspec": {
   "display_name": "Python [conda env:.mlspace-kandi_new]",
   "language": "python",
   "name": "conda-env-.mlspace-kandi_new-py"
  },
  "language_info": {
   "codemirror_mode": {
    "name": "ipython",
    "version": 3
   },
   "file_extension": ".py",
   "mimetype": "text/x-python",
   "name": "python",
   "nbconvert_exporter": "python",
   "pygments_lexer": "ipython3",
   "version": "3.9.21"
  }
 },
 "nbformat": 4,
 "nbformat_minor": 5
}
